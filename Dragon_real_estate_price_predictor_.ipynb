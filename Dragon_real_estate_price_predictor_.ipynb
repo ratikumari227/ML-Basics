{
  "nbformat": 4,
  "nbformat_minor": 0,
  "metadata": {
    "colab": {
      "name": "Dragon real estate price predictor .ipynb",
      "provenance": [],
      "mount_file_id": "1w4maKY_fBl7o5lTm3geiGsDMGSjfTUVZ",
      "authorship_tag": "ABX9TyNYQVBo0E0LZjt47jvHuIlf",
      "include_colab_link": true
    },
    "kernelspec": {
      "display_name": "Python 3",
      "name": "python3"
    },
    "language_info": {
      "name": "python"
    }
  },
  "cells": [
    {
      "cell_type": "markdown",
      "metadata": {
        "id": "view-in-github",
        "colab_type": "text"
      },
      "source": [
        "<a href=\"https://colab.research.google.com/github/ratikumari227/ML-Basics/blob/main/Dragon_real_estate_price_predictor_.ipynb\" target=\"_parent\"><img src=\"https://colab.research.google.com/assets/colab-badge.svg\" alt=\"Open In Colab\"/></a>"
      ]
    },
    {
      "cell_type": "markdown",
      "metadata": {
        "id": "1o6LY3Uj77NL"
      },
      "source": [
        "# Notes \n",
        "\n",
        "1. load data by using drive\n",
        "2. https://stackoverflow.com/questions/15026698/how-to-make-separator-in-pandas-read-csv-more-flexible-wrt-whitespace-for-irreg"
      ]
    },
    {
      "cell_type": "markdown",
      "metadata": {
        "id": "zQjvhjnOonvh"
      },
      "source": [
        "Linear regression to predict the price of real estate "
      ]
    },
    {
      "cell_type": "markdown",
      "metadata": {
        "id": "qPjSjQQPyVxa"
      },
      "source": [
        "# Mount google drive"
      ]
    },
    {
      "cell_type": "code",
      "metadata": {
        "colab": {
          "base_uri": "https://localhost:8080/"
        },
        "id": "C_RXnt6ffF6D",
        "outputId": "34456ca8-bc77-4e0c-f7dc-290c522057f1"
      },
      "source": [
        "from google.colab import drive\n",
        "drive.mount('/content/drive')"
      ],
      "execution_count": 1,
      "outputs": [
        {
          "output_type": "stream",
          "text": [
            "Drive already mounted at /content/drive; to attempt to forcibly remount, call drive.mount(\"/content/drive\", force_remount=True).\n"
          ],
          "name": "stdout"
        }
      ]
    },
    {
      "cell_type": "markdown",
      "metadata": {
        "id": "xObmIfBhybba"
      },
      "source": [
        "# Read data file"
      ]
    },
    {
      "cell_type": "code",
      "metadata": {
        "id": "Ngf8wojhkNQW"
      },
      "source": [
        "import pandas as pd"
      ],
      "execution_count": 2,
      "outputs": []
    },
    {
      "cell_type": "code",
      "metadata": {
        "id": "D021TFQB7APe"
      },
      "source": [
        "column_names = ['CRIM', 'ZN', 'INDUS', 'CHAS', 'NOX', 'RM', 'AGE', 'DIS', 'RAD', 'TAX', 'PTRATIO', 'B', 'LSTAT', 'MEDV']\n",
        "housing = pd.read_csv('/content/drive/MyDrive/Colab Notebooks/Dragon Real Estate/housing_data.csv', header=None, delimiter=r\"\\s+\", names=column_names)"
      ],
      "execution_count": 3,
      "outputs": []
    },
    {
      "cell_type": "code",
      "metadata": {
        "id": "uxi1AMsH7fdO"
      },
      "source": [
        "# housing.info()"
      ],
      "execution_count": 4,
      "outputs": []
    },
    {
      "cell_type": "code",
      "metadata": {
        "id": "vfGLRzjD7c-Z"
      },
      "source": [
        "# print(housing.head(5))"
      ],
      "execution_count": 5,
      "outputs": []
    },
    {
      "cell_type": "code",
      "metadata": {
        "id": "MhpqG39r7lYC"
      },
      "source": [
        "# housing['CHAS'].value_counts()"
      ],
      "execution_count": 6,
      "outputs": []
    },
    {
      "cell_type": "code",
      "metadata": {
        "id": "HEZnWlnS80O-"
      },
      "source": [
        "# housing.describe()"
      ],
      "execution_count": 7,
      "outputs": []
    },
    {
      "cell_type": "code",
      "metadata": {
        "id": "BK1DyzLU89gj"
      },
      "source": [
        "# %matplotlib inline\n",
        "# import matplotlib.pyplot as plt \n",
        "# housing.hist( figsize=(20,15))"
      ],
      "execution_count": 8,
      "outputs": []
    },
    {
      "cell_type": "markdown",
      "metadata": {
        "id": "F8NaWQ6NyOZx"
      },
      "source": [
        "# Train Test split"
      ]
    },
    {
      "cell_type": "code",
      "metadata": {
        "id": "0oh9FPbo-FgL"
      },
      "source": [
        "# for learning purpose\n",
        "# import numpy as np\n",
        "# def split_train_test(data,test_ratio):\n",
        "#   np.random.seed(42)\n",
        "#   shuffled = np.random.permutation(len(data))\n",
        "#   # print(shuffled)\n",
        "#   test_set_size = int( len(data) * test_ratio)\n",
        "#   test_indices = shuffled[:test_set_size]\n",
        "#   train_indices = shuffled[test_set_size:]\n",
        "#   return data.iloc[train_indices], data.iloc[test_indices]\n",
        "\n",
        "# train_set, test_set = split_train_test(housing, 0.2)"
      ],
      "execution_count": 9,
      "outputs": []
    },
    {
      "cell_type": "code",
      "metadata": {
        "id": "x7382JO5pRNQ"
      },
      "source": [
        "# from sklearn.model_selection import train_test_split\n",
        "# train_set, test_set = train_test_split(housing, test_size=0.2, random_state=42)"
      ],
      "execution_count": 10,
      "outputs": []
    },
    {
      "cell_type": "code",
      "metadata": {
        "id": "fmCQILo189pp"
      },
      "source": [
        "# print(f'rows in train set: {len(train_set)}\\nrows in test set: {len(test_set)}')"
      ],
      "execution_count": 11,
      "outputs": []
    },
    {
      "cell_type": "code",
      "metadata": {
        "id": "TEA4clkdsB5p"
      },
      "source": [
        "# stratefied sampling --> the data should contain samples from entire population"
      ],
      "execution_count": 12,
      "outputs": []
    },
    {
      "cell_type": "code",
      "metadata": {
        "id": "Rd12oiudsB_J"
      },
      "source": [
        "from sklearn.model_selection import StratifiedShuffleSplit\n",
        "split = StratifiedShuffleSplit(n_splits=1, test_size=.2, random_state=42)\n",
        "for train_index,test_index in split.split(housing,housing['CHAS']):\n",
        "  strat_train_set = housing.loc[train_index]\n",
        "  strat_test_set = housing.loc[test_index]"
      ],
      "execution_count": 13,
      "outputs": []
    },
    {
      "cell_type": "code",
      "metadata": {
        "id": "r5qXM42GxA6t"
      },
      "source": [
        "# strat_test_set.info()"
      ],
      "execution_count": 14,
      "outputs": []
    },
    {
      "cell_type": "code",
      "metadata": {
        "id": "80h7DcUgxCun"
      },
      "source": [
        "# strat_test_set['CHAS'].value_counts()"
      ],
      "execution_count": 15,
      "outputs": []
    },
    {
      "cell_type": "code",
      "metadata": {
        "id": "WskvNrurxOoC"
      },
      "source": [
        "# strat_train_set['CHAS'].value_counts()"
      ],
      "execution_count": 16,
      "outputs": []
    },
    {
      "cell_type": "code",
      "metadata": {
        "id": "wn5r-UZcxaQS"
      },
      "source": [
        "# 95/7  "
      ],
      "execution_count": 17,
      "outputs": []
    },
    {
      "cell_type": "code",
      "metadata": {
        "id": "uy1XNQvvxf-U"
      },
      "source": [
        "# 376/28"
      ],
      "execution_count": 18,
      "outputs": []
    },
    {
      "cell_type": "code",
      "metadata": {
        "id": "qSLAknRfm2Su"
      },
      "source": [
        "housing=strat_train_set.copy()"
      ],
      "execution_count": 19,
      "outputs": []
    },
    {
      "cell_type": "markdown",
      "metadata": {
        "id": "eFNTC4h4yCuf"
      },
      "source": [
        "# Looking for correlations"
      ]
    },
    {
      "cell_type": "code",
      "metadata": {
        "id": "DT3rs4ciyA4u"
      },
      "source": [
        "corr_matrix = housing.corr()"
      ],
      "execution_count": 20,
      "outputs": []
    },
    {
      "cell_type": "code",
      "metadata": {
        "colab": {
          "base_uri": "https://localhost:8080/"
        },
        "id": "Mx8E-MrRyA8g",
        "outputId": "47b0f502-7464-41d1-dcc4-0f8bc866eb34"
      },
      "source": [
        "corr_matrix['MEDV'].sort_values(ascending=False)"
      ],
      "execution_count": 21,
      "outputs": [
        {
          "output_type": "execute_result",
          "data": {
            "text/plain": [
              "MEDV       1.000000\n",
              "RM         0.679894\n",
              "B          0.361761\n",
              "ZN         0.339741\n",
              "DIS        0.240451\n",
              "CHAS       0.205066\n",
              "AGE       -0.364596\n",
              "RAD       -0.374693\n",
              "CRIM      -0.393715\n",
              "NOX       -0.422873\n",
              "TAX       -0.456657\n",
              "INDUS     -0.473516\n",
              "PTRATIO   -0.493534\n",
              "LSTAT     -0.740494\n",
              "Name: MEDV, dtype: float64"
            ]
          },
          "metadata": {
            "tags": []
          },
          "execution_count": 21
        }
      ]
    },
    {
      "cell_type": "code",
      "metadata": {
        "id": "cKCrOPXhxh0i"
      },
      "source": [
        "# equal % of 0 and 1 same in both test and train set"
      ],
      "execution_count": 22,
      "outputs": []
    },
    {
      "cell_type": "code",
      "metadata": {
        "id": "2qd-Daf_z6ff"
      },
      "source": [
        "from pandas.plotting import scatter_matrix\n",
        "attributes=['RM','ZN','MEDV','LSTAT']"
      ],
      "execution_count": 23,
      "outputs": []
    },
    {
      "cell_type": "code",
      "metadata": {
        "colab": {
          "base_uri": "https://localhost:8080/",
          "height": 573
        },
        "id": "_z3CLNcaz6lE",
        "outputId": "33834dc0-495e-444d-fdc6-3c00946285d1"
      },
      "source": [
        "scatter_matrix(housing[attributes])"
      ],
      "execution_count": 24,
      "outputs": [
        {
          "output_type": "execute_result",
          "data": {
            "text/plain": [
              "array([[<matplotlib.axes._subplots.AxesSubplot object at 0x7faf3d068690>,\n",
              "        <matplotlib.axes._subplots.AxesSubplot object at 0x7faf3d03ae50>,\n",
              "        <matplotlib.axes._subplots.AxesSubplot object at 0x7faf3cfff510>,\n",
              "        <matplotlib.axes._subplots.AxesSubplot object at 0x7faf3cfb6b90>],\n",
              "       [<matplotlib.axes._subplots.AxesSubplot object at 0x7faf3cf79250>,\n",
              "        <matplotlib.axes._subplots.AxesSubplot object at 0x7faf3cf2d8d0>,\n",
              "        <matplotlib.axes._subplots.AxesSubplot object at 0x7faf3cee4fd0>,\n",
              "        <matplotlib.axes._subplots.AxesSubplot object at 0x7faf3cea45d0>],\n",
              "       [<matplotlib.axes._subplots.AxesSubplot object at 0x7faf3cea4610>,\n",
              "        <matplotlib.axes._subplots.AxesSubplot object at 0x7faf3cedad90>,\n",
              "        <matplotlib.axes._subplots.AxesSubplot object at 0x7faf3ce519d0>,\n",
              "        <matplotlib.axes._subplots.AxesSubplot object at 0x7faf3cdfcb90>],\n",
              "       [<matplotlib.axes._subplots.AxesSubplot object at 0x7faf3cdcb710>,\n",
              "        <matplotlib.axes._subplots.AxesSubplot object at 0x7faf3cd7ed90>,\n",
              "        <matplotlib.axes._subplots.AxesSubplot object at 0x7faf3cd40450>,\n",
              "        <matplotlib.axes._subplots.AxesSubplot object at 0x7faf3ccf5ad0>]],\n",
              "      dtype=object)"
            ]
          },
          "metadata": {
            "tags": []
          },
          "execution_count": 24
        },
        {
          "output_type": "display_data",
          "data": {
            "image/png": "[encoded data removed]",
            "text/plain": [
              "<Figure size 432x288 with 16 Axes>"
            ]
          },
          "metadata": {
            "tags": [],
            "needs_background": "light"
          }
        }
      ]
    },
    {
      "cell_type": "code",
      "metadata": {
        "colab": {
          "base_uri": "https://localhost:8080/",
          "height": 296
        },
        "id": "Pw9t11nTWQCh",
        "outputId": "58da6299-e702-44b7-b0e9-c6926dfc958e"
      },
      "source": [
        "housing.plot(kind='scatter',x='RM',y='MEDV',alpha=0.7)"
      ],
      "execution_count": 25,
      "outputs": [
        {
          "output_type": "execute_result",
          "data": {
            "text/plain": [
              "<matplotlib.axes._subplots.AxesSubplot at 0x7faf3ce1ac90>"
            ]
          },
          "metadata": {
            "tags": []
          },
          "execution_count": 25
        },
        {
          "output_type": "display_data",
          "data": {
            "image/png": "[encoded data removed]",
            "text/plain": [
              "<Figure size 432x288 with 1 Axes>"
            ]
          },
          "metadata": {
            "tags": [],
            "needs_background": "light"
          }
        }
      ]
    },
    {
      "cell_type": "code",
      "metadata": {
        "id": "I9Dt7TWDHxdN"
      },
      "source": [
        "\n",
        "housing=strat_train_set.drop('MEDV',axis=1)\n",
        "housing_label=strat_train_set['MEDV'].copy()"
      ],
      "execution_count": 26,
      "outputs": []
    },
    {
      "cell_type": "markdown",
      "metadata": {
        "id": "79udDM4qX_GI"
      },
      "source": [
        "# Attribute combinations"
      ]
    },
    {
      "cell_type": "code",
      "metadata": {
        "id": "YdmkJeBYW9R6"
      },
      "source": [
        "# housing['TPRM']=housing['TAX']/housing['RM']"
      ],
      "execution_count": 27,
      "outputs": []
    },
    {
      "cell_type": "code",
      "metadata": {
        "id": "rN9sIBlwYblR"
      },
      "source": [
        "# housing['TPRM']\n",
        "# tax per room"
      ],
      "execution_count": 28,
      "outputs": []
    },
    {
      "cell_type": "code",
      "metadata": {
        "id": "xyFx0kbFYe8p"
      },
      "source": [
        ""
      ],
      "execution_count": 28,
      "outputs": []
    },
    {
      "cell_type": "markdown",
      "metadata": {
        "id": "FKfJDLCDixjk"
      },
      "source": [
        "# Missing Attribute\n"
      ]
    },
    {
      "cell_type": "markdown",
      "metadata": {
        "id": "Pn6u91k0i4ox"
      },
      "source": [
        "1. get rid of missing data points\n",
        "2. get rid of whole attribute\n",
        "3. set the value to some value (0, mean or median)"
      ]
    },
    {
      "cell_type": "code",
      "metadata": {
        "colab": {
          "base_uri": "https://localhost:8080/"
        },
        "id": "Jy7oDSZ9jQI4",
        "outputId": "2a4a9372-bf2f-4143-c897-ff95f3bc42a9"
      },
      "source": [
        "# 1\n",
        "housing.dropna(subset=['RM']).shape"
      ],
      "execution_count": 29,
      "outputs": [
        {
          "output_type": "execute_result",
          "data": {
            "text/plain": [
              "(404, 13)"
            ]
          },
          "metadata": {
            "tags": []
          },
          "execution_count": 29
        }
      ]
    },
    {
      "cell_type": "code",
      "metadata": {
        "colab": {
          "base_uri": "https://localhost:8080/"
        },
        "id": "Z01vZlGLkHgA",
        "outputId": "c3f6e008-d781-4201-8fa4-c864b64ff2af"
      },
      "source": [
        "# 2\n",
        "housing.drop('RM',axis=1).shape"
      ],
      "execution_count": 30,
      "outputs": [
        {
          "output_type": "execute_result",
          "data": {
            "text/plain": [
              "(404, 12)"
            ]
          },
          "metadata": {
            "tags": []
          },
          "execution_count": 30
        }
      ]
    },
    {
      "cell_type": "code",
      "metadata": {
        "id": "vwrhvLTpkVqQ"
      },
      "source": [
        "median=housing['RM'].median()"
      ],
      "execution_count": 31,
      "outputs": []
    },
    {
      "cell_type": "code",
      "metadata": {
        "colab": {
          "base_uri": "https://localhost:8080/"
        },
        "id": "trRz8gB-kdVk",
        "outputId": "f6f04d3f-537b-4f61-debe-ea2632d6889b"
      },
      "source": [
        "# 3\n",
        "housing['RM'].fillna(median)"
      ],
      "execution_count": 32,
      "outputs": [
        {
          "output_type": "execute_result",
          "data": {
            "text/plain": [
              "254    6.108\n",
              "348    6.635\n",
              "476    6.484\n",
              "321    6.376\n",
              "326    6.312\n",
              "       ...  \n",
              "155    6.152\n",
              "423    6.103\n",
              "98     7.820\n",
              "455    6.525\n",
              "216    5.888\n",
              "Name: RM, Length: 404, dtype: float64"
            ]
          },
          "metadata": {
            "tags": []
          },
          "execution_count": 32
        }
      ]
    },
    {
      "cell_type": "code",
      "metadata": {
        "colab": {
          "base_uri": "https://localhost:8080/"
        },
        "id": "D_oAgpvCkmxM",
        "outputId": "9426eb06-667e-4194-9331-016557261260"
      },
      "source": [
        "from sklearn.impute import SimpleImputer\n",
        "imputer = SimpleImputer(strategy='median')\n",
        "imputer.fit(housing)"
      ],
      "execution_count": 33,
      "outputs": [
        {
          "output_type": "execute_result",
          "data": {
            "text/plain": [
              "SimpleImputer(add_indicator=False, copy=True, fill_value=None,\n",
              "              missing_values=nan, strategy='median', verbose=0)"
            ]
          },
          "metadata": {
            "tags": []
          },
          "execution_count": 33
        }
      ]
    },
    {
      "cell_type": "code",
      "metadata": {
        "colab": {
          "base_uri": "https://localhost:8080/"
        },
        "id": "bINuMP8OlDqD",
        "outputId": "73dd6540-6340-4071-e18b-2f0951515153"
      },
      "source": [
        "imputer.statistics_"
      ],
      "execution_count": 34,
      "outputs": [
        {
          "output_type": "execute_result",
          "data": {
            "text/plain": [
              "array([2.86735e-01, 0.00000e+00, 9.90000e+00, 0.00000e+00, 5.38000e-01,\n",
              "       6.21000e+00, 7.82000e+01, 3.12220e+00, 5.00000e+00, 3.37000e+02,\n",
              "       1.90000e+01, 3.90955e+02, 1.15700e+01])"
            ]
          },
          "metadata": {
            "tags": []
          },
          "execution_count": 34
        }
      ]
    },
    {
      "cell_type": "code",
      "metadata": {
        "colab": {
          "base_uri": "https://localhost:8080/"
        },
        "id": "T4jzM8t_l4g2",
        "outputId": "e80e3224-ce93-4d37-8acf-93271d592855"
      },
      "source": [
        "imputer.statistics_.shape"
      ],
      "execution_count": 35,
      "outputs": [
        {
          "output_type": "execute_result",
          "data": {
            "text/plain": [
              "(13,)"
            ]
          },
          "metadata": {
            "tags": []
          },
          "execution_count": 35
        }
      ]
    },
    {
      "cell_type": "code",
      "metadata": {
        "id": "vIwaOUU3l9cM"
      },
      "source": [
        "X=imputer.transform(housing)"
      ],
      "execution_count": 36,
      "outputs": []
    },
    {
      "cell_type": "code",
      "metadata": {
        "colab": {
          "base_uri": "https://localhost:8080/",
          "height": 317
        },
        "id": "_q10LzKMmHIE",
        "outputId": "15d17eec-dc15-4405-c7f6-1e5b88bee8b1"
      },
      "source": [
        "housing_tr=pd.DataFrame(X,columns=housing.columns)\n",
        "housing_tr.describe()"
      ],
      "execution_count": 37,
      "outputs": [
        {
          "output_type": "execute_result",
          "data": {
            "text/html": [
              "<div>\n",
              "<style scoped>\n",
              "    .dataframe tbody tr th:only-of-type {\n",
              "        vertical-align: middle;\n",
              "    }\n",
              "\n",
              "    .dataframe tbody tr th {\n",
              "        vertical-align: top;\n",
              "    }\n",
              "\n",
              "    .dataframe thead th {\n",
              "        text-align: right;\n",
              "    }\n",
              "</style>\n",
              "<table border=\"1\" class=\"dataframe\">\n",
              "  <thead>\n",
              "    <tr style=\"text-align: right;\">\n",
              "      <th></th>\n",
              "      <th>CRIM</th>\n",
              "      <th>ZN</th>\n",
              "      <th>INDUS</th>\n",
              "      <th>CHAS</th>\n",
              "      <th>NOX</th>\n",
              "      <th>RM</th>\n",
              "      <th>AGE</th>\n",
              "      <th>DIS</th>\n",
              "      <th>RAD</th>\n",
              "      <th>TAX</th>\n",
              "      <th>PTRATIO</th>\n",
              "      <th>B</th>\n",
              "      <th>LSTAT</th>\n",
              "    </tr>\n",
              "  </thead>\n",
              "  <tbody>\n",
              "    <tr>\n",
              "      <th>count</th>\n",
              "      <td>404.000000</td>\n",
              "      <td>404.000000</td>\n",
              "      <td>404.000000</td>\n",
              "      <td>404.000000</td>\n",
              "      <td>404.000000</td>\n",
              "      <td>404.000000</td>\n",
              "      <td>404.000000</td>\n",
              "      <td>404.000000</td>\n",
              "      <td>404.000000</td>\n",
              "      <td>404.000000</td>\n",
              "      <td>404.000000</td>\n",
              "      <td>404.000000</td>\n",
              "      <td>404.000000</td>\n",
              "    </tr>\n",
              "    <tr>\n",
              "      <th>mean</th>\n",
              "      <td>3.602814</td>\n",
              "      <td>10.836634</td>\n",
              "      <td>11.344950</td>\n",
              "      <td>0.069307</td>\n",
              "      <td>0.558064</td>\n",
              "      <td>6.279908</td>\n",
              "      <td>69.039851</td>\n",
              "      <td>3.746210</td>\n",
              "      <td>9.735149</td>\n",
              "      <td>412.341584</td>\n",
              "      <td>18.473267</td>\n",
              "      <td>353.392822</td>\n",
              "      <td>12.791609</td>\n",
              "    </tr>\n",
              "    <tr>\n",
              "      <th>std</th>\n",
              "      <td>8.099383</td>\n",
              "      <td>22.150636</td>\n",
              "      <td>6.877817</td>\n",
              "      <td>0.254290</td>\n",
              "      <td>0.116875</td>\n",
              "      <td>0.712983</td>\n",
              "      <td>28.258248</td>\n",
              "      <td>2.099057</td>\n",
              "      <td>8.731259</td>\n",
              "      <td>168.672623</td>\n",
              "      <td>2.129243</td>\n",
              "      <td>96.069235</td>\n",
              "      <td>7.235740</td>\n",
              "    </tr>\n",
              "    <tr>\n",
              "      <th>min</th>\n",
              "      <td>0.006320</td>\n",
              "      <td>0.000000</td>\n",
              "      <td>0.740000</td>\n",
              "      <td>0.000000</td>\n",
              "      <td>0.389000</td>\n",
              "      <td>3.561000</td>\n",
              "      <td>2.900000</td>\n",
              "      <td>1.129600</td>\n",
              "      <td>1.000000</td>\n",
              "      <td>187.000000</td>\n",
              "      <td>13.000000</td>\n",
              "      <td>0.320000</td>\n",
              "      <td>1.730000</td>\n",
              "    </tr>\n",
              "    <tr>\n",
              "      <th>25%</th>\n",
              "      <td>0.086963</td>\n",
              "      <td>0.000000</td>\n",
              "      <td>5.190000</td>\n",
              "      <td>0.000000</td>\n",
              "      <td>0.453000</td>\n",
              "      <td>5.878750</td>\n",
              "      <td>44.850000</td>\n",
              "      <td>2.035975</td>\n",
              "      <td>4.000000</td>\n",
              "      <td>284.000000</td>\n",
              "      <td>17.400000</td>\n",
              "      <td>374.617500</td>\n",
              "      <td>6.847500</td>\n",
              "    </tr>\n",
              "    <tr>\n",
              "      <th>50%</th>\n",
              "      <td>0.286735</td>\n",
              "      <td>0.000000</td>\n",
              "      <td>9.900000</td>\n",
              "      <td>0.000000</td>\n",
              "      <td>0.538000</td>\n",
              "      <td>6.210000</td>\n",
              "      <td>78.200000</td>\n",
              "      <td>3.122200</td>\n",
              "      <td>5.000000</td>\n",
              "      <td>337.000000</td>\n",
              "      <td>19.000000</td>\n",
              "      <td>390.955000</td>\n",
              "      <td>11.570000</td>\n",
              "    </tr>\n",
              "    <tr>\n",
              "      <th>75%</th>\n",
              "      <td>3.731923</td>\n",
              "      <td>12.500000</td>\n",
              "      <td>18.100000</td>\n",
              "      <td>0.000000</td>\n",
              "      <td>0.631000</td>\n",
              "      <td>6.630250</td>\n",
              "      <td>94.100000</td>\n",
              "      <td>5.100400</td>\n",
              "      <td>24.000000</td>\n",
              "      <td>666.000000</td>\n",
              "      <td>20.200000</td>\n",
              "      <td>395.630000</td>\n",
              "      <td>17.102500</td>\n",
              "    </tr>\n",
              "    <tr>\n",
              "      <th>max</th>\n",
              "      <td>73.534100</td>\n",
              "      <td>100.000000</td>\n",
              "      <td>27.740000</td>\n",
              "      <td>1.000000</td>\n",
              "      <td>0.871000</td>\n",
              "      <td>8.780000</td>\n",
              "      <td>100.000000</td>\n",
              "      <td>12.126500</td>\n",
              "      <td>24.000000</td>\n",
              "      <td>711.000000</td>\n",
              "      <td>22.000000</td>\n",
              "      <td>396.900000</td>\n",
              "      <td>36.980000</td>\n",
              "    </tr>\n",
              "  </tbody>\n",
              "</table>\n",
              "</div>"
            ],
            "text/plain": [
              "             CRIM          ZN       INDUS  ...     PTRATIO           B       LSTAT\n",
              "count  404.000000  404.000000  404.000000  ...  404.000000  404.000000  404.000000\n",
              "mean     3.602814   10.836634   11.344950  ...   18.473267  353.392822   12.791609\n",
              "std      8.099383   22.150636    6.877817  ...    2.129243   96.069235    7.235740\n",
              "min      0.006320    0.000000    0.740000  ...   13.000000    0.320000    1.730000\n",
              "25%      0.086963    0.000000    5.190000  ...   17.400000  374.617500    6.847500\n",
              "50%      0.286735    0.000000    9.900000  ...   19.000000  390.955000   11.570000\n",
              "75%      3.731923   12.500000   18.100000  ...   20.200000  395.630000   17.102500\n",
              "max     73.534100  100.000000   27.740000  ...   22.000000  396.900000   36.980000\n",
              "\n",
              "[8 rows x 13 columns]"
            ]
          },
          "metadata": {
            "tags": []
          },
          "execution_count": 37
        }
      ]
    },
    {
      "cell_type": "code",
      "metadata": {
        "id": "yAY7syU4mX_E"
      },
      "source": [
        ""
      ],
      "execution_count": 37,
      "outputs": []
    },
    {
      "cell_type": "markdown",
      "metadata": {
        "id": "RuX55qygpRTu"
      },
      "source": [
        "# Scikit-learn Design\n"
      ]
    },
    {
      "cell_type": "markdown",
      "metadata": {
        "id": "CNQr-cORpZzc"
      },
      "source": [
        "1. Estimators : It estimates based on some dataset. Eg. Imputer. It has fit() and transform() method. Fit method fits the dataset and calculates the internal parameters.\n",
        "\n",
        "2. Transformers :  Transform method takes input and returns output based on the learning from the fit() method. It has fit_transform() function.\n",
        "\n",
        "3. Predictors : Linear Regression model is an example of predictor. It has fit() and predict() function. The score() function evalutes the prediction.\n"
      ]
    },
    {
      "cell_type": "markdown",
      "metadata": {
        "id": "gEZ7dMCuq6UY"
      },
      "source": [
        "# Feature Scaling"
      ]
    },
    {
      "cell_type": "code",
      "metadata": {
        "id": "_xxvTDj6qWd1"
      },
      "source": [
        "from sklearn.pipeline import Pipeline"
      ],
      "execution_count": 38,
      "outputs": []
    },
    {
      "cell_type": "markdown",
      "metadata": {
        "id": "-3zLdr2_q9sd"
      },
      "source": [
        "1. min-max scaling (normalization) all values lies between 0 and 1\n",
        "\n",
        "\n",
        "---\n",
        "\n",
        "    (value-min)/(max-min)\n",
        "\n",
        "sklearn provides a class called MinMaxScaler for this\n",
        "\n",
        "---\n",
        "2. standardization\n",
        "\n",
        "---\n",
        "```\n",
        "(value-min)/std\n",
        "```\n",
        "sklearn provides a class called StandardScaler for this\n",
        "\n",
        "---\n",
        "\n",
        "\n",
        "\n",
        "\n"
      ]
    },
    {
      "cell_type": "markdown",
      "metadata": {
        "id": "FLmEOktAqYpw"
      },
      "source": [
        "# Creating Pipeline"
      ]
    },
    {
      "cell_type": "code",
      "metadata": {
        "id": "HSxJ2GzZspCe"
      },
      "source": [
        "from sklearn.pipeline import Pipeline"
      ],
      "execution_count": 39,
      "outputs": []
    },
    {
      "cell_type": "code",
      "metadata": {
        "id": "WwuRN5c7svxc"
      },
      "source": [
        "from sklearn.preprocessing import StandardScaler\n",
        "my_pipeline=Pipeline([('imputer',SimpleImputer(strategy='median')),\n",
        "                      # add as many as you want in pipeline\n",
        "                      ('std_scaler',StandardScaler())\n",
        "                      ])"
      ],
      "execution_count": 40,
      "outputs": []
    },
    {
      "cell_type": "code",
      "metadata": {
        "id": "C8EMxk_ksv1T"
      },
      "source": [
        "housing_num_tr= my_pipeline.fit_transform(housing)\n",
        "# numpy array predictors use numpy as input"
      ],
      "execution_count": 41,
      "outputs": []
    },
    {
      "cell_type": "code",
      "metadata": {
        "colab": {
          "base_uri": "https://localhost:8080/"
        },
        "id": "5ewZFcMRty-z",
        "outputId": "3415db27-e51d-4893-f58d-eb9abd3e55e5"
      },
      "source": [
        "housing_num_tr"
      ],
      "execution_count": 42,
      "outputs": [
        {
          "output_type": "execute_result",
          "data": {
            "text/plain": [
              "array([[-0.43942006,  3.12628155, -1.12165014, ..., -0.97491834,\n",
              "         0.41164221, -0.86091034],\n",
              "       [-0.44352175,  3.12628155, -1.35893781, ..., -0.69277865,\n",
              "         0.39131918, -0.94116739],\n",
              "       [ 0.15682292, -0.4898311 ,  0.98336806, ...,  0.81196637,\n",
              "         0.44624347,  0.81480158],\n",
              "       ...,\n",
              "       [-0.43525657, -0.4898311 , -1.23083158, ..., -0.22254583,\n",
              "         0.41831233, -1.27603303],\n",
              "       [ 0.14210728, -0.4898311 ,  0.98336806, ...,  0.81196637,\n",
              "        -3.15239177,  0.73869575],\n",
              "       [-0.43974024, -0.4898311 ,  0.37049623, ..., -0.97491834,\n",
              "         0.41070422,  0.09940681]])"
            ]
          },
          "metadata": {
            "tags": []
          },
          "execution_count": 42
        }
      ]
    },
    {
      "cell_type": "markdown",
      "metadata": {
        "id": "bXrM7jSsugK9"
      },
      "source": [
        "# Selecting desired model for DRAGON REAL ESTATE"
      ]
    },
    {
      "cell_type": "code",
      "metadata": {
        "colab": {
          "base_uri": "https://localhost:8080/"
        },
        "id": "fgnqrTKNueRK",
        "outputId": "587963a8-9fca-4807-ba75-69f7c38c6559"
      },
      "source": [
        "from sklearn.linear_model import LinearRegression\n",
        "from sklearn.tree import DecisionTreeRegressor\n",
        "from sklearn.ensemble import RandomForestRegressor\n",
        "# model = DecisionTreeRegressor()\n",
        "model = RandomForestRegressor()\n",
        "# model = LinearRegression()\n",
        "model.fit(housing_num_tr,housing_label)"
      ],
      "execution_count": 43,
      "outputs": [
        {
          "output_type": "execute_result",
          "data": {
            "text/plain": [
              "RandomForestRegressor(bootstrap=True, ccp_alpha=0.0, criterion='mse',\n",
              "                      max_depth=None, max_features='auto', max_leaf_nodes=None,\n",
              "                      max_samples=None, min_impurity_decrease=0.0,\n",
              "                      min_impurity_split=None, min_samples_leaf=1,\n",
              "                      min_samples_split=2, min_weight_fraction_leaf=0.0,\n",
              "                      n_estimators=100, n_jobs=None, oob_score=False,\n",
              "                      random_state=None, verbose=0, warm_start=False)"
            ]
          },
          "metadata": {
            "tags": []
          },
          "execution_count": 43
        }
      ]
    },
    {
      "cell_type": "code",
      "metadata": {
        "id": "zkM0uBDdup8u"
      },
      "source": [
        "some_data = housing.iloc[:5]"
      ],
      "execution_count": 44,
      "outputs": []
    },
    {
      "cell_type": "code",
      "metadata": {
        "id": "Dv6_eKvWIPeV"
      },
      "source": [
        "some_labels = housing_label.iloc[:5]"
      ],
      "execution_count": 45,
      "outputs": []
    },
    {
      "cell_type": "code",
      "metadata": {
        "id": "uqqIdJgCIevl"
      },
      "source": [
        "prepared_data = my_pipeline.transform(some_data)"
      ],
      "execution_count": 46,
      "outputs": []
    },
    {
      "cell_type": "code",
      "metadata": {
        "colab": {
          "base_uri": "https://localhost:8080/"
        },
        "id": "5csWQwbIWvCe",
        "outputId": "c866fa96-8922-4255-d2cb-31089068914b"
      },
      "source": [
        "prepared_data[0]"
      ],
      "execution_count": 58,
      "outputs": [
        {
          "output_type": "execute_result",
          "data": {
            "text/plain": [
              "array([-0.43942006,  3.12628155, -1.12165014, -0.27288841, -1.42262747,\n",
              "       -0.24141041, -1.31238772,  2.61111401, -1.0016859 , -0.5778192 ,\n",
              "       -0.97491834,  0.41164221, -0.86091034])"
            ]
          },
          "metadata": {
            "tags": []
          },
          "execution_count": 58
        }
      ]
    },
    {
      "cell_type": "code",
      "metadata": {
        "colab": {
          "base_uri": "https://localhost:8080/"
        },
        "id": "0s_KHnIiIo1S",
        "outputId": "ea9b2268-29bb-4b9b-e4b6-be83e6a78a26"
      },
      "source": [
        "model.predict(prepared_data)"
      ],
      "execution_count": 47,
      "outputs": [
        {
          "output_type": "execute_result",
          "data": {
            "text/plain": [
              "array([22.428, 25.502, 16.127, 23.404, 23.633])"
            ]
          },
          "metadata": {
            "tags": []
          },
          "execution_count": 47
        }
      ]
    },
    {
      "cell_type": "code",
      "metadata": {
        "colab": {
          "base_uri": "https://localhost:8080/"
        },
        "id": "NeAPjDnoIuXM",
        "outputId": "61882862-63f4-4731-93fe-9949c2122509"
      },
      "source": [
        "list(some_labels)"
      ],
      "execution_count": 48,
      "outputs": [
        {
          "output_type": "execute_result",
          "data": {
            "text/plain": [
              "[21.9, 24.5, 16.7, 23.1, 23.0]"
            ]
          },
          "metadata": {
            "tags": []
          },
          "execution_count": 48
        }
      ]
    },
    {
      "cell_type": "markdown",
      "metadata": {
        "id": "_onYU0ujJRNV"
      },
      "source": [
        "# Evaluating model"
      ]
    },
    {
      "cell_type": "code",
      "metadata": {
        "colab": {
          "base_uri": "https://localhost:8080/"
        },
        "id": "PYupajMPIxVL",
        "outputId": "7b1df948-b057-4220-c9c1-fe95777d3153"
      },
      "source": [
        "from sklearn.metrics import mean_squared_error\n",
        "import numpy as np\n",
        "housing_predictions = model.predict(housing_num_tr)\n",
        "mse=mean_squared_error(housing_label,housing_predictions)\n",
        "rmse=np.sqrt(mse)\n",
        "mse"
      ],
      "execution_count": 49,
      "outputs": [
        {
          "output_type": "execute_result",
          "data": {
            "text/plain": [
              "1.5615875470297023"
            ]
          },
          "metadata": {
            "tags": []
          },
          "execution_count": 49
        }
      ]
    },
    {
      "cell_type": "markdown",
      "metadata": {
        "id": "i1XmoIcyKvv2"
      },
      "source": [
        "# Using better evaluation technique - Cross Validation"
      ]
    },
    {
      "cell_type": "code",
      "metadata": {
        "id": "G_b92jVoJK4R"
      },
      "source": [
        "from sklearn.model_selection import cross_val_score\n",
        "scores = cross_val_score(model,housing_num_tr,housing_label,scoring='neg_mean_squared_error')\n",
        "rmse_scores = np.sqrt(-scores)"
      ],
      "execution_count": 50,
      "outputs": []
    },
    {
      "cell_type": "code",
      "metadata": {
        "colab": {
          "base_uri": "https://localhost:8080/"
        },
        "id": "JAPl-81XOBea",
        "outputId": "364929dc-981c-4bd4-cc03-45af7037e310"
      },
      "source": [
        "rmse_scores"
      ],
      "execution_count": 51,
      "outputs": [
        {
          "output_type": "execute_result",
          "data": {
            "text/plain": [
              "array([2.74114716, 3.61397992, 3.1109984 , 4.05447337, 3.188462  ])"
            ]
          },
          "metadata": {
            "tags": []
          },
          "execution_count": 51
        }
      ]
    },
    {
      "cell_type": "code",
      "metadata": {
        "id": "ME5WZRY1SH0R"
      },
      "source": [
        "def print_scores(scores):\n",
        "  print('Scores : ',scores)\n",
        "  print('Mean : ',scores.mean())\n",
        "  print('Standard Deviation : ',scores.std())"
      ],
      "execution_count": 52,
      "outputs": []
    },
    {
      "cell_type": "code",
      "metadata": {
        "colab": {
          "base_uri": "https://localhost:8080/"
        },
        "id": "98asOuYtSo-x",
        "outputId": "bacbe769-c970-4f23-a0b9-6fdb81f3fb0c"
      },
      "source": [
        "print_scores(rmse_scores)"
      ],
      "execution_count": 53,
      "outputs": [
        {
          "output_type": "stream",
          "text": [
            "Scores :  [2.74114716 3.61397992 3.1109984  4.05447337 3.188462  ]\n",
            "Mean :  3.3418121701865813\n",
            "Standard Deviation :  0.4515641695184066\n"
          ],
          "name": "stdout"
        }
      ]
    },
    {
      "cell_type": "markdown",
      "metadata": {
        "id": "2Ekl9Z3jWHAD"
      },
      "source": [
        "# Saving the model"
      ]
    },
    {
      "cell_type": "code",
      "metadata": {
        "colab": {
          "base_uri": "https://localhost:8080/"
        },
        "id": "mArGkd5MWJfR",
        "outputId": "5e8811bf-aad3-4bee-8e71-ed4d2080a9ac"
      },
      "source": [
        "from joblib import dump,load\n",
        "dump(model,'DragonRealEstate.joblib')"
      ],
      "execution_count": 56,
      "outputs": [
        {
          "output_type": "execute_result",
          "data": {
            "text/plain": [
              "['DragonRealEstate.joblib']"
            ]
          },
          "metadata": {
            "tags": []
          },
          "execution_count": 56
        }
      ]
    },
    {
      "cell_type": "markdown",
      "metadata": {
        "id": "o-zEVPbYTRxk"
      },
      "source": [
        "# Testing the model on test data"
      ]
    },
    {
      "cell_type": "code",
      "metadata": {
        "id": "ceL1a-scSr1S"
      },
      "source": [
        "X_test = strat_test_set.drop('MEDV',axis=1)\n",
        "Y_test = strat_test_set['MEDV']\n",
        "X_test_prepared = my_pipeline.transform(X_test)\n",
        "final_predictions = model.predict(X_test_prepared)\n",
        "final_mse=mean_squared_error(Y_test,final_predictions)\n",
        "final_rmse=np.sqrt(final_mse)"
      ],
      "execution_count": 54,
      "outputs": []
    },
    {
      "cell_type": "code",
      "metadata": {
        "colab": {
          "base_uri": "https://localhost:8080/"
        },
        "id": "ylzC2-bbTP49",
        "outputId": "534600e8-e9d0-4093-b619-73b5debf3216"
      },
      "source": [
        "final_rmse"
      ],
      "execution_count": 55,
      "outputs": [
        {
          "output_type": "execute_result",
          "data": {
            "text/plain": [
              "2.89378621478207"
            ]
          },
          "metadata": {
            "tags": []
          },
          "execution_count": 55
        }
      ]
    },
    {
      "cell_type": "code",
      "metadata": {
        "id": "f7DnnJovUEpl"
      },
      "source": [
        "test_model =load('DragonRealEstate.joblib')"
      ],
      "execution_count": 57,
      "outputs": []
    },
    {
      "cell_type": "code",
      "metadata": {
        "id": "I8MV7jcVWbn8"
      },
      "source": [
        "test_data = np.array([[-0.43942006,  3.12628155, -1.12165014, -0.27288841, -1.42262747,\n",
        "       -0.24141041, -1.31238772,  2.61111401, -1.0016859 , -0.5778192 ,\n",
        "       -0.97491834,  0.41164221, -0.86091034]])"
      ],
      "execution_count": 62,
      "outputs": []
    },
    {
      "cell_type": "code",
      "metadata": {
        "colab": {
          "base_uri": "https://localhost:8080/"
        },
        "id": "ufTwSWyhW6KB",
        "outputId": "a37652e4-befd-4329-caf9-b8b57a71838a"
      },
      "source": [
        "model.predict(test_data)"
      ],
      "execution_count": 63,
      "outputs": [
        {
          "output_type": "execute_result",
          "data": {
            "text/plain": [
              "array([22.428])"
            ]
          },
          "metadata": {
            "tags": []
          },
          "execution_count": 63
        }
      ]
    },
    {
      "cell_type": "code",
      "metadata": {
        "id": "BCvBtjYwXA5L"
      },
      "source": [
        ""
      ],
      "execution_count": null,
      "outputs": []
    }
  ]
}